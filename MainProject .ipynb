{
 "cells": [
  {
   "cell_type": "code",
   "execution_count": 3,
   "id": "f37fc6be",
   "metadata": {},
   "outputs": [
    {
     "ename": "ModuleNotFoundError",
     "evalue": "No module named 'UrbanDwell'",
     "output_type": "error",
     "traceback": [
      "\u001b[1;31m---------------------------------------------------------------------------\u001b[0m",
      "\u001b[1;31mModuleNotFoundError\u001b[0m                       Traceback (most recent call last)",
      "\u001b[1;32mC:\\Users\\VIDHIS~1\\AppData\\Local\\Temp/ipykernel_4332/436559069.py\u001b[0m in \u001b[0;36m<module>\u001b[1;34m\u001b[0m\n\u001b[1;32m----> 1\u001b[1;33m \u001b[1;32mfrom\u001b[0m \u001b[0mPYTHON_ASSIGNMENT_2\u001b[0m \u001b[1;32mimport\u001b[0m \u001b[1;33m*\u001b[0m\u001b[1;33m\u001b[0m\u001b[1;33m\u001b[0m\u001b[0m\n\u001b[0m\u001b[0;32m      2\u001b[0m \u001b[1;32mdef\u001b[0m \u001b[0mmy_function\u001b[0m\u001b[1;33m(\u001b[0m\u001b[1;33m**\u001b[0m\u001b[0mkwargs\u001b[0m\u001b[1;33m)\u001b[0m\u001b[1;33m:\u001b[0m\u001b[1;33m\u001b[0m\u001b[1;33m\u001b[0m\u001b[0m\n\u001b[0;32m      3\u001b[0m     \"\"\"WE ANALYSED, INVESTIGATED AND SUMMARIZED THE DATA \n\u001b[0;32m      4\u001b[0m     USING EDA AND CLASS AND FUNCTION METHOD AND OBJECTS AND CLASSIFIED USING RANDOM FOREST CLASSIFIER\"\"\"\n\u001b[0;32m      5\u001b[0m     \u001b[1;32mreturn\u001b[0m \u001b[1;32mNone\u001b[0m\u001b[1;33m\u001b[0m\u001b[1;33m\u001b[0m\u001b[0m\n",
      "\u001b[1;31mModuleNotFoundError\u001b[0m: No module named 'PYTHON_ASSIGNMENT_2'"
     ]
    }
   ],
   "source": [
    "from PYTHON_ASSIGNMENT_2 import *\n",
    "def my_function(**kwargs):\n",
    "    \"\"\"WE ANALYSED, INVESTIGATED AND SUMMARIZED THE DATA \n",
    "    USING EDA AND CLASS AND FUNCTION METHOD AND OBJECTS AND CLASSIFIED USING RANDOM FOREST CLASSIFIER\"\"\"\n",
    "    return None\n",
    "print(\"Using __doc__:\")\n",
    "print(my_function.__doc__)\n",
    "\n",
    "print(\"Select Any Functionality:\\n1. Read Data\\n2. Data Pre-Proccessing\\n3. Data Cleaning and Handling (Data Cleaning and handling null values)\\n4. Data Visualization(Outlier Analysis,Feature Extraction and Corelation Plot)\\n5. Data Analysis (Stastical Analysis and Model Implementation)\")\n",
    "\n",
    "choice = int(input(\"Enter choice(1/2/3/4/5):\"))\n",
    "c1 = NYCHousingPricePrediction() \n",
    "\n",
    "if choice == 1:\n",
    "    c1.read_datafile()\n",
    "elif choice == 2:\n",
    "    c1.data_preproccessing()\n",
    "elif choice == 3:\n",
    "    c1.data_cleaning_and_handling()\n",
    "elif choice == 4:\n",
    "    c1.datavisualization()\n",
    "elif choice == 5:\n",
    "    c1.data_analysis_and_classification()\n",
    "else:\n",
    "    print(\"Invalid Input,Please Enter Valid Input\")         "
   ]
  },
  {
   "cell_type": "code",
   "execution_count": null,
   "id": "c029ef9e",
   "metadata": {},
   "outputs": [],
   "source": []
  }
 ],
 "metadata": {
  "kernelspec": {
   "display_name": "Python 3 (ipykernel)",
   "language": "python",
   "name": "python3"
  },
  "language_info": {
   "codemirror_mode": {
    "name": "ipython",
    "version": 3
   },
   "file_extension": ".py",
   "mimetype": "text/x-python",
   "name": "python",
   "nbconvert_exporter": "python",
   "pygments_lexer": "ipython3",
   "version": "3.9.7"
  }
 },
 "nbformat": 4,
 "nbformat_minor": 5
}
